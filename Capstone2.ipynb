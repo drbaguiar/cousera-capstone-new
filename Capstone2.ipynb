{
    "nbformat_minor": 1, 
    "cells": [
        {
            "source": "## Introduction", 
            "cell_type": "markdown", 
            "metadata": {}
        }, 
        {
            "source": "Trip Scheduler\n\nIf I were going on a trip, as a first step, I would try to gather a list of tourist attractions in that city.  Then I would choose the ones that I was interested in.   For example, if I was interested in culture then I would plan on visiting Museums.  On the other hand, if I was interested in Art I would visit more Art Galleries in that city.  The most attractive places visit in that city, would vary from person to person.\n\nOnce the places of interest were identified, I would sort the list then I would plan on the details like which places can be visited on which day etc.  It would make sense to group places that are located near each other and visit them  together in the same day.   Geographic location of the places being visited would be used to make this possible.\n\nThe Trip Scheduler would help the tourist develop this kind of a plan.  The Tourist would enter the address of the city  and  the number of days he/she would be staying in the city.  Trip Scheduler would analyze this input and produces the following results:\n\n1.  List of Tourist attractions that can be visited on each day of their stay.  \n\n2.  City Map with the locations of the tourist attractions marked.   The places would be marked with colors and each color representing the day on which the places are visited. ", 
            "cell_type": "markdown", 
            "metadata": {}
        }, 
        {
            "source": "## Data", 
            "cell_type": "markdown", 
            "metadata": {}
        }, 
        {
            "source": "GEOCODERS data is used to identify the latitude and longitude of the City.  \n\nThe following FOURSQUARES data are needed by the tourist scheduler tool:\n\n1.\tList of venues in a specified a geographic location.\n\n2.\tCategories of each venue.  This is required since the tool is going to produce the result based on the user choice of categories.\n\n3.\tLocation data (latitude and longitude), and rating information for each venue.  This is required to pick the top N places to visit and to categorize them based on the proximity to each other.\n \nFoursquare data is the main dataset being used to get the above data.  \n\n1.\tVenues/Categories API:  This API provides the list of Venue Categories supported in the dataset.  The tourism related Categories are selected from the received response and displayed to the user.  The user can then select their interested categories from this list.  For example, assume the response from the dataset contains the following categories:  Restaurants, Shopping Malls, Museums, Sports Activities, Art Galleries, Parks and Palaces.  The tourist could choose, Museum, Art Galleries and Parks as interested categories.  The tool would select places only from these categories.\n\n2.\tVenues/Explore API:   This API provides the list of venues that matches the selected categories in the specific location.   The fields of interest are Venue name, Venue ID, Venue Category, Venue Latitude and Venue Longitude.\n\n3.\tVenues/Venue ID  API:  This API is used to get the details of each venue.  The fields of interest are \u2018Rating\u2019 and the \u2018Likes\u2019.  The Venues are then sorted based on this \u2018Rating\u2019 and \u2018Likes\u2019 values.  From this sorted list, the top N venues are picked up.\n\nThe top N venues would be segmented using the K-Means clustering algorithm.  The attributes used for clustering would be the latitude and longitude of the venue in order to get the tourist places segmented based on the geographical location.  Each segment represents the day on which the places are visited.", 
            "cell_type": "markdown", 
            "metadata": {}
        }, 
        {
            "source": "## Methodology", 
            "cell_type": "markdown", 
            "metadata": {
                "collapsed": true
            }
        }, 
        {
            "source": "### Step 1: Import needed libraries, turn off warnings, load foursquare credentials", 
            "cell_type": "markdown", 
            "metadata": {}
        }, 
        {
            "execution_count": 305, 
            "cell_type": "code", 
            "metadata": {}, 
            "outputs": [
                {
                    "output_type": "stream", 
                    "name": "stdout", 
                    "text": "Libraries imported.\n"
                }
            ], 
            "source": "import requests\nimport pandas as pd\npd.set_option('display.max_rows', 500)\n\nimport warnings\nwarnings.filterwarnings('ignore') #Turn off warnings\n\n#!conda install -c conda-forge geocoder -y\n#!conda install -c conda-forge geopy --yes \nfrom geopy.geocoders import Nominatim\n\n# import k-means from clustering stage\nfrom sklearn.cluster import KMeans\n\n#!conda install -c conda-forge folium=0.5.0 --yes # uncomment this line if you haven't completed the Foursquare API lab\nimport folium # map rendering library\n\n# Matplotlib and associated plotting modules\nimport matplotlib.cm as cm\nimport matplotlib.colors as colors\nimport numpy as np\n\nprint('Libraries imported.')"
        }, 
        {
            "execution_count": 306, 
            "cell_type": "code", 
            "metadata": {}, 
            "outputs": [
                {
                    "output_type": "stream", 
                    "name": "stdout", 
                    "text": "Your credentails:\nCLIENT_ID: LSC31VKD4CEXLCRBGKZXS1ZGXYVWG2ANHWRG0XKS1WEPBZQG\nCLIENT_SECRET:11RZFCKAHBOEKJCWFJHDQALNAIJFNBCURFYL5MZAAP40PUXA\n"
                }
            ], 
            "source": "CLIENT_ID = 'LSC31VKD4CEXLCRBGKZXS1ZGXYVWG2ANHWRG0XKS1WEPBZQG' # your Foursquare ID\nCLIENT_SECRET = '11RZFCKAHBOEKJCWFJHDQALNAIJFNBCURFYL5MZAAP40PUXA' # your Foursquare Secret\nVERSION = '20180605' # Foursquare API version\n\nprint('Your credentails:')\nprint('CLIENT_ID: ' + CLIENT_ID)\nprint('CLIENT_SECRET:' + CLIENT_SECRET)"
        }, 
        {
            "source": "### Step 2:  Input the location to visit (city), number of days, and categories", 
            "cell_type": "markdown", 
            "metadata": {}
        }, 
        {
            "execution_count": 307, 
            "cell_type": "code", 
            "metadata": {}, 
            "outputs": [], 
            "source": "vlocation = 'Bentonville, AR'\nvdays = 3 #Number of days\nperday = 4 #number of venues per day\ntourism_categories = ['Theme Park', 'Park', 'National Park', 'Botanical Garden', 'Museum', 'Palace', 'Temple', \n                      'Aquarium', 'Planetarium', 'Zoo', 'Monument / Landmark', 'Capitol Building', 'Spiritual Center']  # Only a limited list ftesting"
        }, 
        {
            "source": "### Step 3: Get the latitude and longitude of the location (Geocoders)", 
            "cell_type": "markdown", 
            "metadata": {}
        }, 
        {
            "execution_count": 308, 
            "cell_type": "code", 
            "metadata": {}, 
            "outputs": [
                {
                    "output_type": "stream", 
                    "name": "stdout", 
                    "text": "The geograpical coordinate of  Bentonville, AR  are 36.3728538, -94.2088172.\n"
                }
            ], 
            "source": "geolocator = Nominatim()\nlocation = geolocator.geocode(vlocation)\nlat = location.latitude\nlng = location.longitude\nprint('The geograpical coordinate of ', vlocation, ' are {}, {}.'.format(lat, lng))"
        }, 
        {
            "source": "### Step 4: Get the list of supported venue categories (Foursquare)", 
            "cell_type": "markdown", 
            "metadata": {}
        }, 
        {
            "execution_count": 309, 
            "cell_type": "code", 
            "metadata": {}, 
            "outputs": [], 
            "source": "cat_url = 'https://api.foursquare.com/v2/venues/categories?&client_id={}&client_secret={}&v={}'.format(CLIENT_ID, \n            CLIENT_SECRET, \n            VERSION)\ncat_result = requests.get(cat_url).json()"
        }, 
        {
            "source": "### Step 5: Get applicable tourism categories ", 
            "cell_type": "markdown", 
            "metadata": {}
        }, 
        {
            "execution_count": 310, 
            "cell_type": "code", 
            "metadata": {}, 
            "outputs": [], 
            "source": "fs_tourism_cat_list = []\nfs_tourism_cat_id = []\nfor c1 in cat_result['response']['categories']:\n    if c1['name'] in tourism_categories:\n        fs_tourism_cat_list.append([c1['name'],c1['id']])\n        fs_tourism_cat_id.append(c1['id'])\n    for c2 in c1['categories']:\n        if c2['name'] in tourism_categories:\n                fs_tourism_cat_list.append([c2['name'],c2['id']])\n                fs_tourism_cat_id.append(c2['id'])\n        if (len(c2['categories']) != 0):\n            for c3 in c2['categories']:\n                if c3['name'] in tourism_categories:\n                    fs_tourism_cat_list.append([c3['name'],c3['id']])\n                    fs_tourism_cat_id.append(c3['id'])"
        }, 
        {
            "source": "### Step 6: Get the list of Venues matching the tourism categories", 
            "cell_type": "markdown", 
            "metadata": {}
        }, 
        {
            "execution_count": 311, 
            "cell_type": "code", 
            "metadata": {}, 
            "outputs": [], 
            "source": "# Parameters for the foursquare APIs\nLIMIT=100\nradius = 8000  # 80km\n\nresults = []\nfor index, cid in enumerate(fs_tourism_cat_id):\n    url = 'https://api.foursquare.com/v2/venues/search?&client_id={}&client_secret={}&v={}&ll={},{}&categoryId={}&radius={}&limit={}'.format(\n            CLIENT_ID, \n            CLIENT_SECRET, \n            VERSION, \n            lat, \n            lng, \n            cid,\n            radius, \n            LIMIT)\n    results.append(requests.get(url).json())"
        }, 
        {
            "source": "### Step 7: Convert to Dataframe with columns, Venue Name, ID, Category, Latitude and Longitude.", 
            "cell_type": "markdown", 
            "metadata": {}
        }, 
        {
            "execution_count": 321, 
            "cell_type": "code", 
            "metadata": {
                "scrolled": true
            }, 
            "outputs": [], 
            "source": "venues_list=[]\nfor res in results:\n    if (len(res['response'])  != 0):\n        for v in res['response']['venues']:\n            # return only relevant information for each nearby venue\n            if (len(v['categories']) != 0):\n                venues_list.append((\n                    v['name'],         \n                    v['location']['lat'], \n                    v['location']['lng'],\n                    v['categories'][0]['name'],\n                    v['id']))\n                \ntravel_venues = pd.DataFrame(venues_list)\ntravel_venues.columns = ['Name', 'Latitude', 'Longtitude', 'Category','Ident']"
        }, 
        {
            "source": "### Step 8: Get the details of each travel venue\n#### Not implemented because it requires multiple calls to the venue/venueID api and venue/venueID calls are in Sandbox account.", 
            "cell_type": "markdown", 
            "metadata": {}
        }, 
        {
            "source": "### Step 9: Add the columns 'Rating' and 'Likes' to the dataframe based on the values received from the Venue details\n#### Not implemented because it requires multiple calls to the venue/venueID api and venue/venueID calls are in Sandbox account.", 
            "cell_type": "markdown", 
            "metadata": {}
        }, 
        {
            "source": "### Work around for step 8 and 9 to randomly Assign likes and rating", 
            "cell_type": "markdown", 
            "metadata": {}
        }, 
        {
            "execution_count": 322, 
            "cell_type": "code", 
            "metadata": {}, 
            "outputs": [], 
            "source": "np.random.seed(12345) #For reproduceablitli\ntravel_venues['Rating'] = np.random.randint(4,11, size=len(travel_venues))\ntravel_venues['Likes'] = np.random.randint(6,11, size=len(travel_venues))"
        }, 
        {
            "source": "### Step 10: Sort the dataframe based on the Rating and Likes.  Pick up top N travel venues.", 
            "cell_type": "markdown", 
            "metadata": {}
        }, 
        {
            "execution_count": 314, 
            "cell_type": "code", 
            "metadata": {}, 
            "outputs": [
                {
                    "execution_count": 314, 
                    "metadata": {}, 
                    "data": {
                        "text/html": "<div>\n<style scoped>\n    .dataframe tbody tr th:only-of-type {\n        vertical-align: middle;\n    }\n\n    .dataframe tbody tr th {\n        vertical-align: top;\n    }\n\n    .dataframe thead th {\n        text-align: right;\n    }\n</style>\n<table border=\"1\" class=\"dataframe\">\n  <thead>\n    <tr style=\"text-align: right;\">\n      <th></th>\n      <th>Name</th>\n      <th>Latitude</th>\n      <th>Longtitude</th>\n      <th>Category</th>\n      <th>Ident</th>\n      <th>Rating</th>\n      <th>Likes</th>\n    </tr>\n  </thead>\n  <tbody>\n    <tr>\n      <th>12</th>\n      <td>Daisy Airgun Myseum</td>\n      <td>36.370952</td>\n      <td>-94.221566</td>\n      <td>Museum</td>\n      <td>4c34e49a3896e21e3156ec90</td>\n      <td>10</td>\n      <td>10</td>\n    </tr>\n    <tr>\n      <th>18</th>\n      <td>The Land of Happy Monkeys</td>\n      <td>36.362743</td>\n      <td>-94.181044</td>\n      <td>Zoo</td>\n      <td>4db83cfdfa8c377d83ba4261</td>\n      <td>10</td>\n      <td>10</td>\n    </tr>\n    <tr>\n      <th>77</th>\n      <td>The Church of Jesus Christ of Latter-day Saints</td>\n      <td>36.358282</td>\n      <td>-94.142592</td>\n      <td>Church</td>\n      <td>4f731f857bebc1de47d22e45</td>\n      <td>10</td>\n      <td>10</td>\n    </tr>\n    <tr>\n      <th>86</th>\n      <td>Park Street Baptist Church</td>\n      <td>36.384324</td>\n      <td>-94.208324</td>\n      <td>Church</td>\n      <td>5aac43ad1f7440585774573f</td>\n      <td>10</td>\n      <td>10</td>\n    </tr>\n    <tr>\n      <th>15</th>\n      <td>Daisy Airgun Museum</td>\n      <td>36.355182</td>\n      <td>-94.119768</td>\n      <td>Museum</td>\n      <td>4c34e4f17cc0c9b6881ef49a</td>\n      <td>10</td>\n      <td>9</td>\n    </tr>\n    <tr>\n      <th>41</th>\n      <td>Foerster Park</td>\n      <td>36.342422</td>\n      <td>-94.120547</td>\n      <td>Park</td>\n      <td>4c607cc590b2c9b60bea3c22</td>\n      <td>10</td>\n      <td>9</td>\n    </tr>\n    <tr>\n      <th>103</th>\n      <td>Kingdom Hall of Jehovah's Witnesses (Bentonville)</td>\n      <td>36.356777</td>\n      <td>-94.240532</td>\n      <td>Kingdom Hall</td>\n      <td>4e3b3533fa764553759aaec3</td>\n      <td>10</td>\n      <td>9</td>\n    </tr>\n    <tr>\n      <th>27</th>\n      <td>Crystal Bridges Trail</td>\n      <td>36.378921</td>\n      <td>-94.205425</td>\n      <td>Trail</td>\n      <td>4eed206c775b3c580d25c2f3</td>\n      <td>10</td>\n      <td>8</td>\n    </tr>\n    <tr>\n      <th>71</th>\n      <td>First United Methodist Church Bentonville</td>\n      <td>36.372896</td>\n      <td>-94.210764</td>\n      <td>Church</td>\n      <td>4d585e75afe4b60c3cf84f61</td>\n      <td>10</td>\n      <td>8</td>\n    </tr>\n    <tr>\n      <th>89</th>\n      <td>oakley chapel</td>\n      <td>36.333685</td>\n      <td>-94.174427</td>\n      <td>Church</td>\n      <td>569fc05c498e2db2bfe9ac1a</td>\n      <td>10</td>\n      <td>8</td>\n    </tr>\n    <tr>\n      <th>104</th>\n      <td>Chapel On The Creeks</td>\n      <td>36.316010</td>\n      <td>-94.188348</td>\n      <td>Church</td>\n      <td>4c687b995fae20a123cb49a6</td>\n      <td>10</td>\n      <td>8</td>\n    </tr>\n    <tr>\n      <th>57</th>\n      <td>Wildwood Park</td>\n      <td>36.335136</td>\n      <td>-94.235140</td>\n      <td>Park</td>\n      <td>4fff9d3ae4b0978e42d44af8</td>\n      <td>10</td>\n      <td>7</td>\n    </tr>\n  </tbody>\n</table>\n</div>", 
                        "text/plain": "                                                  Name   Latitude  Longtitude  \\\n12                                 Daisy Airgun Myseum  36.370952  -94.221566   \n18                           The Land of Happy Monkeys  36.362743  -94.181044   \n77     The Church of Jesus Christ of Latter-day Saints  36.358282  -94.142592   \n86                          Park Street Baptist Church  36.384324  -94.208324   \n15                                 Daisy Airgun Museum  36.355182  -94.119768   \n41                                       Foerster Park  36.342422  -94.120547   \n103  Kingdom Hall of Jehovah's Witnesses (Bentonville)  36.356777  -94.240532   \n27                               Crystal Bridges Trail  36.378921  -94.205425   \n71           First United Methodist Church Bentonville  36.372896  -94.210764   \n89                                       oakley chapel  36.333685  -94.174427   \n104                               Chapel On The Creeks  36.316010  -94.188348   \n57                                       Wildwood Park  36.335136  -94.235140   \n\n         Category                     Ident  Rating  Likes  \n12         Museum  4c34e49a3896e21e3156ec90      10     10  \n18            Zoo  4db83cfdfa8c377d83ba4261      10     10  \n77         Church  4f731f857bebc1de47d22e45      10     10  \n86         Church  5aac43ad1f7440585774573f      10     10  \n15         Museum  4c34e4f17cc0c9b6881ef49a      10      9  \n41           Park  4c607cc590b2c9b60bea3c22      10      9  \n103  Kingdom Hall  4e3b3533fa764553759aaec3      10      9  \n27          Trail  4eed206c775b3c580d25c2f3      10      8  \n71         Church  4d585e75afe4b60c3cf84f61      10      8  \n89         Church  569fc05c498e2db2bfe9ac1a      10      8  \n104        Church  4c687b995fae20a123cb49a6      10      8  \n57           Park  4fff9d3ae4b0978e42d44af8      10      7  "
                    }, 
                    "output_type": "execute_result"
                }
            ], 
            "source": "travel_venues_sorted = travel_venues.sort_values(['Rating', 'Likes'], ascending=[False, False]) \nN = vdays * perday  \ntop_travel_venues = travel_venues_sorted[:N] # venues to be covred in a day\ntop_travel_venues"
        }, 
        {
            "source": "### Step 11: Form a new dataframe by dropping everything except Lat and Long", 
            "cell_type": "markdown", 
            "metadata": {}
        }, 
        {
            "execution_count": 315, 
            "cell_type": "code", 
            "metadata": {}, 
            "outputs": [
                {
                    "execution_count": 315, 
                    "metadata": {}, 
                    "data": {
                        "text/html": "<div>\n<style scoped>\n    .dataframe tbody tr th:only-of-type {\n        vertical-align: middle;\n    }\n\n    .dataframe tbody tr th {\n        vertical-align: top;\n    }\n\n    .dataframe thead th {\n        text-align: right;\n    }\n</style>\n<table border=\"1\" class=\"dataframe\">\n  <thead>\n    <tr style=\"text-align: right;\">\n      <th></th>\n      <th>Latitude</th>\n      <th>Longtitude</th>\n    </tr>\n  </thead>\n  <tbody>\n    <tr>\n      <th>12</th>\n      <td>36.370952</td>\n      <td>-94.221566</td>\n    </tr>\n    <tr>\n      <th>18</th>\n      <td>36.362743</td>\n      <td>-94.181044</td>\n    </tr>\n    <tr>\n      <th>77</th>\n      <td>36.358282</td>\n      <td>-94.142592</td>\n    </tr>\n    <tr>\n      <th>86</th>\n      <td>36.384324</td>\n      <td>-94.208324</td>\n    </tr>\n    <tr>\n      <th>15</th>\n      <td>36.355182</td>\n      <td>-94.119768</td>\n    </tr>\n    <tr>\n      <th>41</th>\n      <td>36.342422</td>\n      <td>-94.120547</td>\n    </tr>\n    <tr>\n      <th>103</th>\n      <td>36.356777</td>\n      <td>-94.240532</td>\n    </tr>\n    <tr>\n      <th>27</th>\n      <td>36.378921</td>\n      <td>-94.205425</td>\n    </tr>\n    <tr>\n      <th>71</th>\n      <td>36.372896</td>\n      <td>-94.210764</td>\n    </tr>\n    <tr>\n      <th>89</th>\n      <td>36.333685</td>\n      <td>-94.174427</td>\n    </tr>\n    <tr>\n      <th>104</th>\n      <td>36.316010</td>\n      <td>-94.188348</td>\n    </tr>\n    <tr>\n      <th>57</th>\n      <td>36.335136</td>\n      <td>-94.235140</td>\n    </tr>\n  </tbody>\n</table>\n</div>", 
                        "text/plain": "      Latitude  Longtitude\n12   36.370952  -94.221566\n18   36.362743  -94.181044\n77   36.358282  -94.142592\n86   36.384324  -94.208324\n15   36.355182  -94.119768\n41   36.342422  -94.120547\n103  36.356777  -94.240532\n27   36.378921  -94.205425\n71   36.372896  -94.210764\n89   36.333685  -94.174427\n104  36.316010  -94.188348\n57   36.335136  -94.235140"
                    }, 
                    "output_type": "execute_result"
                }
            ], 
            "source": "#clustering_venues=top_travel_venues.loc[:,['Name','Category', 'Latitude','Longtitude']]\nclustering_venues=top_travel_venues.loc[:,['Latitude','Longtitude']]\nclustering_venues"
        }, 
        {
            "source": "### Step 12: Use K-Means clustering to segment venues based on the Latitude and Longitude values", 
            "cell_type": "markdown", 
            "metadata": {}
        }, 
        {
            "execution_count": 316, 
            "cell_type": "code", 
            "metadata": {}, 
            "outputs": [
                {
                    "execution_count": 316, 
                    "metadata": {}, 
                    "data": {
                        "text/html": "<div>\n<style scoped>\n    .dataframe tbody tr th:only-of-type {\n        vertical-align: middle;\n    }\n\n    .dataframe tbody tr th {\n        vertical-align: top;\n    }\n\n    .dataframe thead th {\n        text-align: right;\n    }\n</style>\n<table border=\"1\" class=\"dataframe\">\n  <thead>\n    <tr style=\"text-align: right;\">\n      <th></th>\n      <th>Name</th>\n      <th>Category</th>\n      <th>Latitude</th>\n      <th>Longtitude</th>\n      <th>Cluster Labels</th>\n    </tr>\n  </thead>\n  <tbody>\n    <tr>\n      <th>12</th>\n      <td>Daisy Airgun Myseum</td>\n      <td>Museum</td>\n      <td>36.370952</td>\n      <td>-94.221566</td>\n      <td>1</td>\n    </tr>\n    <tr>\n      <th>18</th>\n      <td>The Land of Happy Monkeys</td>\n      <td>Zoo</td>\n      <td>36.362743</td>\n      <td>-94.181044</td>\n      <td>2</td>\n    </tr>\n    <tr>\n      <th>77</th>\n      <td>The Church of Jesus Christ of Latter-day Saints</td>\n      <td>Church</td>\n      <td>36.358282</td>\n      <td>-94.142592</td>\n      <td>0</td>\n    </tr>\n    <tr>\n      <th>86</th>\n      <td>Park Street Baptist Church</td>\n      <td>Church</td>\n      <td>36.384324</td>\n      <td>-94.208324</td>\n      <td>1</td>\n    </tr>\n    <tr>\n      <th>15</th>\n      <td>Daisy Airgun Museum</td>\n      <td>Museum</td>\n      <td>36.355182</td>\n      <td>-94.119768</td>\n      <td>0</td>\n    </tr>\n    <tr>\n      <th>41</th>\n      <td>Foerster Park</td>\n      <td>Park</td>\n      <td>36.342422</td>\n      <td>-94.120547</td>\n      <td>0</td>\n    </tr>\n    <tr>\n      <th>103</th>\n      <td>Kingdom Hall of Jehovah's Witnesses (Bentonville)</td>\n      <td>Kingdom Hall</td>\n      <td>36.356777</td>\n      <td>-94.240532</td>\n      <td>1</td>\n    </tr>\n    <tr>\n      <th>27</th>\n      <td>Crystal Bridges Trail</td>\n      <td>Trail</td>\n      <td>36.378921</td>\n      <td>-94.205425</td>\n      <td>1</td>\n    </tr>\n    <tr>\n      <th>71</th>\n      <td>First United Methodist Church Bentonville</td>\n      <td>Church</td>\n      <td>36.372896</td>\n      <td>-94.210764</td>\n      <td>1</td>\n    </tr>\n    <tr>\n      <th>89</th>\n      <td>oakley chapel</td>\n      <td>Church</td>\n      <td>36.333685</td>\n      <td>-94.174427</td>\n      <td>2</td>\n    </tr>\n    <tr>\n      <th>104</th>\n      <td>Chapel On The Creeks</td>\n      <td>Church</td>\n      <td>36.316010</td>\n      <td>-94.188348</td>\n      <td>2</td>\n    </tr>\n    <tr>\n      <th>57</th>\n      <td>Wildwood Park</td>\n      <td>Park</td>\n      <td>36.335136</td>\n      <td>-94.235140</td>\n      <td>1</td>\n    </tr>\n  </tbody>\n</table>\n</div>", 
                        "text/plain": "                                                  Name      Category  \\\n12                                 Daisy Airgun Myseum        Museum   \n18                           The Land of Happy Monkeys           Zoo   \n77     The Church of Jesus Christ of Latter-day Saints        Church   \n86                          Park Street Baptist Church        Church   \n15                                 Daisy Airgun Museum        Museum   \n41                                       Foerster Park          Park   \n103  Kingdom Hall of Jehovah's Witnesses (Bentonville)  Kingdom Hall   \n27                               Crystal Bridges Trail         Trail   \n71           First United Methodist Church Bentonville        Church   \n89                                       oakley chapel        Church   \n104                               Chapel On The Creeks        Church   \n57                                       Wildwood Park          Park   \n\n      Latitude  Longtitude  Cluster Labels  \n12   36.370952  -94.221566               1  \n18   36.362743  -94.181044               2  \n77   36.358282  -94.142592               0  \n86   36.384324  -94.208324               1  \n15   36.355182  -94.119768               0  \n41   36.342422  -94.120547               0  \n103  36.356777  -94.240532               1  \n27   36.378921  -94.205425               1  \n71   36.372896  -94.210764               1  \n89   36.333685  -94.174427               2  \n104  36.316010  -94.188348               2  \n57   36.335136  -94.235140               1  "
                    }, 
                    "output_type": "execute_result"
                }
            ], 
            "source": "# set number of clusters\nkclusters = vdays\n\n# run k-means clustering\nkmeans = KMeans(init = \"k-means++\", n_clusters=kclusters, n_init = 12).fit(clustering_venues)\n\n\n# check cluster labels generated for each row in the dataframe\nkmeans.labels_\n\nvenues_grouped = top_travel_venues.loc[:,['Name', 'Category', 'Latitude','Longtitude']]\n\n# add clustering labels\nvenues_grouped['Cluster Labels'] = kmeans.labels_\nvenues_grouped"
        }, 
        {
            "source": "## Results\n\n### Step 13: Display the list of venues (for each day for 3 days)", 
            "cell_type": "markdown", 
            "metadata": {}
        }, 
        {
            "source": "#### Day 1", 
            "cell_type": "markdown", 
            "metadata": {}
        }, 
        {
            "execution_count": 317, 
            "cell_type": "code", 
            "metadata": {}, 
            "outputs": [
                {
                    "execution_count": 317, 
                    "metadata": {}, 
                    "data": {
                        "text/html": "<div>\n<style scoped>\n    .dataframe tbody tr th:only-of-type {\n        vertical-align: middle;\n    }\n\n    .dataframe tbody tr th {\n        vertical-align: top;\n    }\n\n    .dataframe thead th {\n        text-align: right;\n    }\n</style>\n<table border=\"1\" class=\"dataframe\">\n  <thead>\n    <tr style=\"text-align: right;\">\n      <th></th>\n      <th>Name</th>\n      <th>Category</th>\n    </tr>\n  </thead>\n  <tbody>\n    <tr>\n      <th>77</th>\n      <td>The Church of Jesus Christ of Latter-day Saints</td>\n      <td>Church</td>\n    </tr>\n    <tr>\n      <th>15</th>\n      <td>Daisy Airgun Museum</td>\n      <td>Museum</td>\n    </tr>\n    <tr>\n      <th>41</th>\n      <td>Foerster Park</td>\n      <td>Park</td>\n    </tr>\n  </tbody>\n</table>\n</div>", 
                        "text/plain": "                                               Name Category\n77  The Church of Jesus Christ of Latter-day Saints   Church\n15                              Daisy Airgun Museum   Museum\n41                                    Foerster Park     Park"
                    }, 
                    "output_type": "execute_result"
                }
            ], 
            "source": "venues_grouped.loc[venues_grouped['Cluster Labels'] == 0, ['Name', 'Category']]"
        }, 
        {
            "source": "#### Day 2", 
            "cell_type": "markdown", 
            "metadata": {}
        }, 
        {
            "execution_count": 318, 
            "cell_type": "code", 
            "metadata": {}, 
            "outputs": [
                {
                    "execution_count": 318, 
                    "metadata": {}, 
                    "data": {
                        "text/html": "<div>\n<style scoped>\n    .dataframe tbody tr th:only-of-type {\n        vertical-align: middle;\n    }\n\n    .dataframe tbody tr th {\n        vertical-align: top;\n    }\n\n    .dataframe thead th {\n        text-align: right;\n    }\n</style>\n<table border=\"1\" class=\"dataframe\">\n  <thead>\n    <tr style=\"text-align: right;\">\n      <th></th>\n      <th>Name</th>\n      <th>Category</th>\n    </tr>\n  </thead>\n  <tbody>\n    <tr>\n      <th>12</th>\n      <td>Daisy Airgun Myseum</td>\n      <td>Museum</td>\n    </tr>\n    <tr>\n      <th>86</th>\n      <td>Park Street Baptist Church</td>\n      <td>Church</td>\n    </tr>\n    <tr>\n      <th>103</th>\n      <td>Kingdom Hall of Jehovah's Witnesses (Bentonville)</td>\n      <td>Kingdom Hall</td>\n    </tr>\n    <tr>\n      <th>27</th>\n      <td>Crystal Bridges Trail</td>\n      <td>Trail</td>\n    </tr>\n    <tr>\n      <th>71</th>\n      <td>First United Methodist Church Bentonville</td>\n      <td>Church</td>\n    </tr>\n    <tr>\n      <th>57</th>\n      <td>Wildwood Park</td>\n      <td>Park</td>\n    </tr>\n  </tbody>\n</table>\n</div>", 
                        "text/plain": "                                                  Name      Category\n12                                 Daisy Airgun Myseum        Museum\n86                          Park Street Baptist Church        Church\n103  Kingdom Hall of Jehovah's Witnesses (Bentonville)  Kingdom Hall\n27                               Crystal Bridges Trail         Trail\n71           First United Methodist Church Bentonville        Church\n57                                       Wildwood Park          Park"
                    }, 
                    "output_type": "execute_result"
                }
            ], 
            "source": "venues_grouped.loc[venues_grouped['Cluster Labels'] == 1, ['Name', 'Category']]"
        }, 
        {
            "source": "#### Day 3", 
            "cell_type": "markdown", 
            "metadata": {}
        }, 
        {
            "execution_count": 319, 
            "cell_type": "code", 
            "metadata": {}, 
            "outputs": [
                {
                    "execution_count": 319, 
                    "metadata": {}, 
                    "data": {
                        "text/html": "<div>\n<style scoped>\n    .dataframe tbody tr th:only-of-type {\n        vertical-align: middle;\n    }\n\n    .dataframe tbody tr th {\n        vertical-align: top;\n    }\n\n    .dataframe thead th {\n        text-align: right;\n    }\n</style>\n<table border=\"1\" class=\"dataframe\">\n  <thead>\n    <tr style=\"text-align: right;\">\n      <th></th>\n      <th>Name</th>\n      <th>Category</th>\n    </tr>\n  </thead>\n  <tbody>\n    <tr>\n      <th>18</th>\n      <td>The Land of Happy Monkeys</td>\n      <td>Zoo</td>\n    </tr>\n    <tr>\n      <th>89</th>\n      <td>oakley chapel</td>\n      <td>Church</td>\n    </tr>\n    <tr>\n      <th>104</th>\n      <td>Chapel On The Creeks</td>\n      <td>Church</td>\n    </tr>\n  </tbody>\n</table>\n</div>", 
                        "text/plain": "                          Name Category\n18   The Land of Happy Monkeys      Zoo\n89               oakley chapel   Church\n104       Chapel On The Creeks   Church"
                    }, 
                    "output_type": "execute_result"
                }
            ], 
            "source": "venues_grouped.loc[venues_grouped['Cluster Labels'] == 2, ['Name', 'Category']]"
        }, 
        {
            "source": "### Step 14: Use Folium to visualize the travel venues on the City map.\u00b6 \n\n#### (Day 1 in Red , Day 2 in Purple, and Day 3 in Green)\u00b6 ", 
            "cell_type": "markdown", 
            "metadata": {}
        }, 
        {
            "execution_count": 320, 
            "cell_type": "code", 
            "metadata": {}, 
            "outputs": [
                {
                    "execution_count": 320, 
                    "metadata": {}, 
                    "data": {
                        "text/html": "<div style=\"width:100%;\"><div style=\"position:relative;width:100%;height:0;padding-bottom:60%;\"><iframe src=\"data:text/html;charset=utf-8;base64,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\" style=\"position:absolute;width:100%;height:100%;left:0;top:0;border:none !important;\" allowfullscreen webkitallowfullscreen mozallowfullscreen></iframe></div></div>", 
                        "text/plain": "<folium.folium.Map at 0x7f94a116dd30>"
                    }, 
                    "output_type": "execute_result"
                }
            ], 
            "source": "# create map\nmap_clusters = folium.Map(location=[lat, lng], zoom_start=11)\n\n# set color scheme for the clusters\nx = np.arange(kclusters)\nys = [i+x+(i*x)**2 for i in range(kclusters)]\ncolors_array = cm.rainbow(np.linspace(0, 1, len(ys)))\nrainbow = [colors.rgb2hex(i) for i in colors_array]\n\n# add markers to the map\nmarkers_colors = []\nfor lat, lon, poi, cluster in zip(venues_grouped['Latitude'], venues_grouped['Longtitude'], venues_grouped['Name'], venues_grouped['Cluster Labels']):\n    label = folium.Popup(str(poi) + ' Cluster ' + str(cluster), parse_html=True)\n    folium.CircleMarker(\n        [lat, lon],\n        radius=5,\n        popup=label,\n        color=rainbow[cluster-1],\n        fill=True,\n        fill_color=rainbow[cluster-1],\n        fill_opacity=0.7).add_to(map_clusters)\n       \nmap_clusters"
        }, 
        {
            "source": "## DISCUSSION\n\nThe number of places to be covered on any day can be longer than the number we would like to visit because only latitude and longitude were used in the K-Means algorithm to do the clustering.  \n\nFuture imporvements could add options such as hours to visit at a venue, number of hours users spend on average at each venue,  etc, then the algorithm could do further spilts on this list.", 
            "cell_type": "markdown", 
            "metadata": {}
        }, 
        {
            "source": "## CONCLUSION\n\nWhen someone is planning a trip to an unknown city, the planning becomes difficult due to the lack of knowledge about the city.  This tool can help.  The tool uses preference of venue categories, number of days stay, ratings of venues, and venue likes.  This helps the traveler by making it easy for the user to make a schedule without going to multiple web pages.\n", 
            "cell_type": "markdown", 
            "metadata": {}
        }, 
        {
            "execution_count": null, 
            "cell_type": "code", 
            "metadata": {}, 
            "outputs": [], 
            "source": ""
        }
    ], 
    "metadata": {
        "kernelspec": {
            "display_name": "Python 3.5", 
            "name": "python3", 
            "language": "python"
        }, 
        "language_info": {
            "mimetype": "text/x-python", 
            "nbconvert_exporter": "python", 
            "version": "3.5.5", 
            "name": "python", 
            "file_extension": ".py", 
            "pygments_lexer": "ipython3", 
            "codemirror_mode": {
                "version": 3, 
                "name": "ipython"
            }
        }
    }, 
    "nbformat": 4
}