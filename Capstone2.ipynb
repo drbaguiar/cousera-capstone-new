{
    "nbformat_minor": 1, 
    "cells": [
        {
            "source": "## Introduction", 
            "cell_type": "markdown", 
            "metadata": {}
        }, 
        {
            "source": "Trip Scheduler\n\nIf I were going on a trip, as a first step, I would try to gather a list of tourist attractions in that city.  Then I would choose the ones that I was interested in.   For example, if I was interested in culture then I would plan on visiting Museums.  On the other hand, if I was interested in Art I would visit more Art Galleries in that city.  The most attractive places visit in that city, would vary from person to person.\n\nOnce the places of interest were identified, I would sort the list then I would plan on the details like which places can be visited on which day etc.  It would make sense to group places that are located near each other and visit them  together in the same day.   Geographic location of the places being visited would be used to make this possible.\n\nThe Trip Scheduler would help the tourist develop this kind of a plan.  The Tourist would enter the address of the city  and  the number of days he/she would be staying in the city.  Trip Scheduler would analyze this input and produces the following results:\n\n1.  List of Tourist attractions that can be visited on each day of their stay.  \n\n2.  City Map with the locations of the tourist attractions marked.   The places would be marked with colors and each color representing the day on which the places are visited. ", 
            "cell_type": "markdown", 
            "metadata": {}
        }, 
        {
            "source": "## Data", 
            "cell_type": "markdown", 
            "metadata": {}
        }, 
        {
            "source": "GEOCODERS data is used to identify the latitude and longitude of the City.  \n\nThe following FOURSQUARES data are needed by the tourist scheduler tool:\n\n1.\tList of venues in a specified a geographic location.\n\n2.\tCategories of each venue.  This is required since the tool is going to produce the result based on the user choice of categories.\n\n3.\tLocation data (latitude and longitude), and rating information for each venue.  This is required to pick the top N places to visit and to categorize them based on the proximity to each other.\n \nFoursquare data is the main dataset being used to get the above data.  \n\n1.\tVenues/Categories API:  This API provides the list of Venue Categories supported in the dataset.  The tourism related Categories are selected from the received response and displayed to the user.  The user can then select their interested categories from this list.  For example, assume the response from the dataset contains the following categories:  Restaurants, Shopping Malls, Museums, Sports Activities, Art Galleries, Parks and Palaces.  The tourist could choose, Museum, Art Galleries and Parks as interested categories.  The tool would select places only from these categories.\n\n2.\tVenues/Explore API:   This API provides the list of venues that matches the selected categories in the specific location.   The fields of interest are Venue name, Venue ID, Venue Category, Venue Latitude and Venue Longitude.\n\n3.\tVenues/Venue ID  API:  This API is used to get the details of each venue.  The fields of interest are \u2018Rating\u2019 and the \u2018Likes\u2019.  The Venues are then sorted based on this \u2018Rating\u2019 and \u2018Likes\u2019 values.  From this sorted list, the top N venues are picked up.\n\nThe top N venues would be segmented using the K-Means clustering algorithm.  The attributes used for clustering would be the latitude and longitude of the venue in order to get the tourist places segmented based on the geographical location.  Each segment represents the day on which the places are visited.", 
            "cell_type": "markdown", 
            "metadata": {}
        }, 
        {
            "source": "## Methodology", 
            "cell_type": "markdown", 
            "metadata": {
                "collapsed": true
            }
        }, 
        {
            "source": "### Step 1: Import needed libraries, turn off warnings, load foursquare credentials", 
            "cell_type": "markdown", 
            "metadata": {}
        }, 
        {
            "execution_count": 305, 
            "cell_type": "code", 
            "metadata": {}, 
            "outputs": [
                {
                    "output_type": "stream", 
                    "name": "stdout", 
                    "text": "Libraries imported.\n"
                }
            ], 
            "source": "import requests\nimport pandas as pd\npd.set_option('display.max_rows', 500)\n\nimport warnings\nwarnings.filterwarnings('ignore') #Turn off warnings\n\n#!conda install -c conda-forge geocoder -y\n#!conda install -c conda-forge geopy --yes \nfrom geopy.geocoders import Nominatim\n\n# import k-means from clustering stage\nfrom sklearn.cluster import KMeans\n\n#!conda install -c conda-forge folium=0.5.0 --yes # uncomment this line if you haven't completed the Foursquare API lab\nimport folium # map rendering library\n\n# Matplotlib and associated plotting modules\nimport matplotlib.cm as cm\nimport matplotlib.colors as colors\nimport numpy as np\n\nprint('Libraries imported.')"
        }, 
        {
            "execution_count": 323, 
            "cell_type": "code", 
            "metadata": {}, 
            "outputs": [
                {
                    "output_type": "stream", 
                    "name": "stdout", 
                    "text": "Your credentails:\nCLIENT_ID: 2KLOE5IFU4U0FU4JEGOJBZ2SZS00KRF1SXES45FA5C3ISO5U\nCLIENT_SECRET:XU5TRJWTXMNTAD4SPYKT1ID5IEN3M1454ULFGAMDWPGOH1QF\n"
                }
            ], 
            "source": "CLIENT_ID = '2KLOE5IFU4U0FU4JEGOJBZ2SZS00KRF1SXES45FA5C3ISO5U' # your Foursquare ID\nCLIENT_SECRET = 'XU5TRJWTXMNTAD4SPYKT1ID5IEN3M1454ULFGAMDWPGOH1QF' # your Foursquare Secret\nVERSION = '20180604'\nLIMIT = 30\nprint('Your credentails:')\nprint('CLIENT_ID: ' + CLIENT_ID)\nprint('CLIENT_SECRET:' + CLIENT_SECRET)"
        }, 
        {
            "source": "### Step 2:  Input the location to visit (city), number of days, and categories", 
            "cell_type": "markdown", 
            "metadata": {}
        }, 
        {
            "execution_count": 324, 
            "cell_type": "code", 
            "metadata": {}, 
            "outputs": [], 
            "source": "vlocation = 'Bentonville, AR'\nvdays = 3 #Number of days\nperday = 4 #number of venues per day\ntourism_categories = ['Theme Park', 'Park', 'National Park', 'Botanical Garden', 'Museum', 'Palace', 'Temple', \n                      'Aquarium', 'Planetarium', 'Zoo', 'Monument / Landmark', 'Capitol Building', 'Spiritual Center']  # Only a limited list ftesting"
        }, 
        {
            "source": "### Step 3: Get the latitude and longitude of the location (Geocoders)", 
            "cell_type": "markdown", 
            "metadata": {}
        }, 
        {
            "execution_count": 325, 
            "cell_type": "code", 
            "metadata": {}, 
            "outputs": [
                {
                    "output_type": "stream", 
                    "name": "stdout", 
                    "text": "The geograpical coordinate of  Bentonville, AR  are 36.3728538, -94.2088172.\n"
                }
            ], 
            "source": "geolocator = Nominatim()\nlocation = geolocator.geocode(vlocation)\nlat = location.latitude\nlng = location.longitude\nprint('The geograpical coordinate of ', vlocation, ' are {}, {}.'.format(lat, lng))"
        }, 
        {
            "source": "### Step 4: Get the list of supported venue categories (Foursquare)", 
            "cell_type": "markdown", 
            "metadata": {}
        }, 
        {
            "execution_count": 326, 
            "cell_type": "code", 
            "metadata": {}, 
            "outputs": [], 
            "source": "cat_url = 'https://api.foursquare.com/v2/venues/categories?&client_id={}&client_secret={}&v={}'.format(CLIENT_ID, \n            CLIENT_SECRET, \n            VERSION)\ncat_result = requests.get(cat_url).json()"
        }, 
        {
            "source": "### Step 5: Get applicable tourism categories ", 
            "cell_type": "markdown", 
            "metadata": {}
        }, 
        {
            "execution_count": 327, 
            "cell_type": "code", 
            "metadata": {}, 
            "outputs": [], 
            "source": "fs_tourism_cat_list = []\nfs_tourism_cat_id = []\nfor c1 in cat_result['response']['categories']:\n    if c1['name'] in tourism_categories:\n        fs_tourism_cat_list.append([c1['name'],c1['id']])\n        fs_tourism_cat_id.append(c1['id'])\n    for c2 in c1['categories']:\n        if c2['name'] in tourism_categories:\n                fs_tourism_cat_list.append([c2['name'],c2['id']])\n                fs_tourism_cat_id.append(c2['id'])\n        if (len(c2['categories']) != 0):\n            for c3 in c2['categories']:\n                if c3['name'] in tourism_categories:\n                    fs_tourism_cat_list.append([c3['name'],c3['id']])\n                    fs_tourism_cat_id.append(c3['id'])"
        }, 
        {
            "source": "### Step 6: Get the list of Venues matching the tourism categories", 
            "cell_type": "markdown", 
            "metadata": {}
        }, 
        {
            "execution_count": 328, 
            "cell_type": "code", 
            "metadata": {}, 
            "outputs": [], 
            "source": "# Parameters for the foursquare APIs\nLIMIT=100\nradius = 8000  # 80km\n\nresults = []\nfor index, cid in enumerate(fs_tourism_cat_id):\n    url = 'https://api.foursquare.com/v2/venues/search?&client_id={}&client_secret={}&v={}&ll={},{}&categoryId={}&radius={}&limit={}'.format(\n            CLIENT_ID, \n            CLIENT_SECRET, \n            VERSION, \n            lat, \n            lng, \n            cid,\n            radius, \n            LIMIT)\n    results.append(requests.get(url).json())"
        }, 
        {
            "source": "### Step 7: Convert to Dataframe with columns, Venue Name, ID, Category, Latitude and Longitude.", 
            "cell_type": "markdown", 
            "metadata": {}
        }, 
        {
            "execution_count": 329, 
            "cell_type": "code", 
            "metadata": {
                "scrolled": true
            }, 
            "outputs": [], 
            "source": "venues_list=[]\nfor res in results:\n    if (len(res['response'])  != 0):\n        for v in res['response']['venues']:\n            # return only relevant information for each nearby venue\n            if (len(v['categories']) != 0):\n                venues_list.append((\n                    v['name'],         \n                    v['location']['lat'], \n                    v['location']['lng'],\n                    v['categories'][0]['name'],\n                    v['id']))\n                \ntravel_venues = pd.DataFrame(venues_list)\ntravel_venues.columns = ['Name', 'Latitude', 'Longtitude', 'Category','Ident']"
        }, 
        {
            "source": "### Step 8: Get the details of each travel venue\n#### Not implemented because it requires multiple calls to the venue/venueID api and venue/venueID calls are in Sandbox account.", 
            "cell_type": "markdown", 
            "metadata": {}
        }, 
        {
            "source": "### Step 9: Add the columns 'Rating' and 'Likes' to the dataframe based on the values received from the Venue details\n#### Not implemented because it requires multiple calls to the venue/venueID api and venue/venueID calls are in Sandbox account.", 
            "cell_type": "markdown", 
            "metadata": {}
        }, 
        {
            "source": "### Work around for step 8 and 9 to randomly Assign likes and rating", 
            "cell_type": "markdown", 
            "metadata": {}
        }, 
        {
            "execution_count": 330, 
            "cell_type": "code", 
            "metadata": {}, 
            "outputs": [], 
            "source": "np.random.seed(12345) #For reproduceablitli\ntravel_venues['Rating'] = np.random.randint(4,11, size=len(travel_venues))\ntravel_venues['Likes'] = np.random.randint(6,11, size=len(travel_venues))"
        }, 
        {
            "source": "### Step 10: Sort the dataframe based on the Rating and Likes.  Pick up top N travel venues.", 
            "cell_type": "markdown", 
            "metadata": {}
        }, 
        {
            "execution_count": 331, 
            "cell_type": "code", 
            "metadata": {}, 
            "outputs": [
                {
                    "execution_count": 331, 
                    "metadata": {}, 
                    "data": {
                        "text/html": "<div>\n<style scoped>\n    .dataframe tbody tr th:only-of-type {\n        vertical-align: middle;\n    }\n\n    .dataframe tbody tr th {\n        vertical-align: top;\n    }\n\n    .dataframe thead th {\n        text-align: right;\n    }\n</style>\n<table border=\"1\" class=\"dataframe\">\n  <thead>\n    <tr style=\"text-align: right;\">\n      <th></th>\n      <th>Name</th>\n      <th>Latitude</th>\n      <th>Longtitude</th>\n      <th>Category</th>\n      <th>Ident</th>\n      <th>Rating</th>\n      <th>Likes</th>\n    </tr>\n  </thead>\n  <tbody>\n    <tr>\n      <th>12</th>\n      <td>Buckminster Fuller's Fly's Eye Dome</td>\n      <td>36.383526</td>\n      <td>-94.203559</td>\n      <td>Museum</td>\n      <td>598fd8ea3149b904bbe12033</td>\n      <td>10</td>\n      <td>10</td>\n    </tr>\n    <tr>\n      <th>18</th>\n      <td>The Land of Happy Monkeys</td>\n      <td>36.362743</td>\n      <td>-94.181044</td>\n      <td>Zoo</td>\n      <td>4db83cfdfa8c377d83ba4261</td>\n      <td>10</td>\n      <td>10</td>\n    </tr>\n    <tr>\n      <th>77</th>\n      <td>The Church of Jesus Christ of Latter-day Saints</td>\n      <td>36.358282</td>\n      <td>-94.142592</td>\n      <td>Church</td>\n      <td>4f731f857bebc1de47d22e45</td>\n      <td>10</td>\n      <td>10</td>\n    </tr>\n    <tr>\n      <th>86</th>\n      <td>Park Street Baptist Church</td>\n      <td>36.384324</td>\n      <td>-94.208324</td>\n      <td>Church</td>\n      <td>5aac43ad1f7440585774573f</td>\n      <td>10</td>\n      <td>10</td>\n    </tr>\n    <tr>\n      <th>15</th>\n      <td>Daisy Airgun Museum</td>\n      <td>36.355182</td>\n      <td>-94.119768</td>\n      <td>Museum</td>\n      <td>4c34e4f17cc0c9b6881ef49a</td>\n      <td>10</td>\n      <td>9</td>\n    </tr>\n    <tr>\n      <th>41</th>\n      <td>Foerster Park</td>\n      <td>36.342422</td>\n      <td>-94.120547</td>\n      <td>Park</td>\n      <td>4c607cc590b2c9b60bea3c22</td>\n      <td>10</td>\n      <td>9</td>\n    </tr>\n    <tr>\n      <th>103</th>\n      <td>S.O.D POD</td>\n      <td>36.360391</td>\n      <td>-94.182654</td>\n      <td>Shrine</td>\n      <td>50916d7d498e8c94e3d01bcf</td>\n      <td>10</td>\n      <td>9</td>\n    </tr>\n    <tr>\n      <th>27</th>\n      <td>Crystal Bridges Trail</td>\n      <td>36.378921</td>\n      <td>-94.205425</td>\n      <td>Trail</td>\n      <td>4eed206c775b3c580d25c2f3</td>\n      <td>10</td>\n      <td>8</td>\n    </tr>\n    <tr>\n      <th>71</th>\n      <td>First United Methodist Church Bentonville</td>\n      <td>36.372896</td>\n      <td>-94.210764</td>\n      <td>Church</td>\n      <td>4d585e75afe4b60c3cf84f61</td>\n      <td>10</td>\n      <td>8</td>\n    </tr>\n    <tr>\n      <th>89</th>\n      <td>oakley chapel</td>\n      <td>36.333685</td>\n      <td>-94.174427</td>\n      <td>Church</td>\n      <td>569fc05c498e2db2bfe9ac1a</td>\n      <td>10</td>\n      <td>8</td>\n    </tr>\n    <tr>\n      <th>104</th>\n      <td>Church</td>\n      <td>36.341495</td>\n      <td>-94.144027</td>\n      <td>Church</td>\n      <td>51460b10e4b07518a03bfc41</td>\n      <td>10</td>\n      <td>8</td>\n    </tr>\n    <tr>\n      <th>57</th>\n      <td>Bentonville Bike Trail</td>\n      <td>36.446724</td>\n      <td>-94.247192</td>\n      <td>Park</td>\n      <td>4e30a55ac65bcc8d77572cf0</td>\n      <td>10</td>\n      <td>7</td>\n    </tr>\n  </tbody>\n</table>\n</div>", 
                        "text/plain": "                                                Name   Latitude  Longtitude  \\\n12               Buckminster Fuller's Fly's Eye Dome  36.383526  -94.203559   \n18                         The Land of Happy Monkeys  36.362743  -94.181044   \n77   The Church of Jesus Christ of Latter-day Saints  36.358282  -94.142592   \n86                        Park Street Baptist Church  36.384324  -94.208324   \n15                               Daisy Airgun Museum  36.355182  -94.119768   \n41                                     Foerster Park  36.342422  -94.120547   \n103                                        S.O.D POD  36.360391  -94.182654   \n27                             Crystal Bridges Trail  36.378921  -94.205425   \n71         First United Methodist Church Bentonville  36.372896  -94.210764   \n89                                     oakley chapel  36.333685  -94.174427   \n104                                           Church  36.341495  -94.144027   \n57                            Bentonville Bike Trail  36.446724  -94.247192   \n\n    Category                     Ident  Rating  Likes  \n12    Museum  598fd8ea3149b904bbe12033      10     10  \n18       Zoo  4db83cfdfa8c377d83ba4261      10     10  \n77    Church  4f731f857bebc1de47d22e45      10     10  \n86    Church  5aac43ad1f7440585774573f      10     10  \n15    Museum  4c34e4f17cc0c9b6881ef49a      10      9  \n41      Park  4c607cc590b2c9b60bea3c22      10      9  \n103   Shrine  50916d7d498e8c94e3d01bcf      10      9  \n27     Trail  4eed206c775b3c580d25c2f3      10      8  \n71    Church  4d585e75afe4b60c3cf84f61      10      8  \n89    Church  569fc05c498e2db2bfe9ac1a      10      8  \n104   Church  51460b10e4b07518a03bfc41      10      8  \n57      Park  4e30a55ac65bcc8d77572cf0      10      7  "
                    }, 
                    "output_type": "execute_result"
                }
            ], 
            "source": "travel_venues_sorted = travel_venues.sort_values(['Rating', 'Likes'], ascending=[False, False]) \nN = vdays * perday  \ntop_travel_venues = travel_venues_sorted[:N] # venues to be covred in a day\ntop_travel_venues"
        }, 
        {
            "source": "### Step 11: Form a new dataframe by dropping everything except Lat and Long", 
            "cell_type": "markdown", 
            "metadata": {}
        }, 
        {
            "execution_count": 332, 
            "cell_type": "code", 
            "metadata": {}, 
            "outputs": [
                {
                    "execution_count": 332, 
                    "metadata": {}, 
                    "data": {
                        "text/html": "<div>\n<style scoped>\n    .dataframe tbody tr th:only-of-type {\n        vertical-align: middle;\n    }\n\n    .dataframe tbody tr th {\n        vertical-align: top;\n    }\n\n    .dataframe thead th {\n        text-align: right;\n    }\n</style>\n<table border=\"1\" class=\"dataframe\">\n  <thead>\n    <tr style=\"text-align: right;\">\n      <th></th>\n      <th>Latitude</th>\n      <th>Longtitude</th>\n    </tr>\n  </thead>\n  <tbody>\n    <tr>\n      <th>12</th>\n      <td>36.383526</td>\n      <td>-94.203559</td>\n    </tr>\n    <tr>\n      <th>18</th>\n      <td>36.362743</td>\n      <td>-94.181044</td>\n    </tr>\n    <tr>\n      <th>77</th>\n      <td>36.358282</td>\n      <td>-94.142592</td>\n    </tr>\n    <tr>\n      <th>86</th>\n      <td>36.384324</td>\n      <td>-94.208324</td>\n    </tr>\n    <tr>\n      <th>15</th>\n      <td>36.355182</td>\n      <td>-94.119768</td>\n    </tr>\n    <tr>\n      <th>41</th>\n      <td>36.342422</td>\n      <td>-94.120547</td>\n    </tr>\n    <tr>\n      <th>103</th>\n      <td>36.360391</td>\n      <td>-94.182654</td>\n    </tr>\n    <tr>\n      <th>27</th>\n      <td>36.378921</td>\n      <td>-94.205425</td>\n    </tr>\n    <tr>\n      <th>71</th>\n      <td>36.372896</td>\n      <td>-94.210764</td>\n    </tr>\n    <tr>\n      <th>89</th>\n      <td>36.333685</td>\n      <td>-94.174427</td>\n    </tr>\n    <tr>\n      <th>104</th>\n      <td>36.341495</td>\n      <td>-94.144027</td>\n    </tr>\n    <tr>\n      <th>57</th>\n      <td>36.446724</td>\n      <td>-94.247192</td>\n    </tr>\n  </tbody>\n</table>\n</div>", 
                        "text/plain": "      Latitude  Longtitude\n12   36.383526  -94.203559\n18   36.362743  -94.181044\n77   36.358282  -94.142592\n86   36.384324  -94.208324\n15   36.355182  -94.119768\n41   36.342422  -94.120547\n103  36.360391  -94.182654\n27   36.378921  -94.205425\n71   36.372896  -94.210764\n89   36.333685  -94.174427\n104  36.341495  -94.144027\n57   36.446724  -94.247192"
                    }, 
                    "output_type": "execute_result"
                }
            ], 
            "source": "#clustering_venues=top_travel_venues.loc[:,['Name','Category', 'Latitude','Longtitude']]\nclustering_venues=top_travel_venues.loc[:,['Latitude','Longtitude']]\nclustering_venues"
        }, 
        {
            "source": "### Step 12: Use K-Means clustering to segment venues based on the Latitude and Longitude values", 
            "cell_type": "markdown", 
            "metadata": {}
        }, 
        {
            "execution_count": 334, 
            "cell_type": "code", 
            "metadata": {}, 
            "outputs": [
                {
                    "execution_count": 334, 
                    "metadata": {}, 
                    "data": {
                        "text/html": "<div>\n<style scoped>\n    .dataframe tbody tr th:only-of-type {\n        vertical-align: middle;\n    }\n\n    .dataframe tbody tr th {\n        vertical-align: top;\n    }\n\n    .dataframe thead th {\n        text-align: right;\n    }\n</style>\n<table border=\"1\" class=\"dataframe\">\n  <thead>\n    <tr style=\"text-align: right;\">\n      <th></th>\n      <th>Name</th>\n      <th>Category</th>\n      <th>Latitude</th>\n      <th>Longtitude</th>\n      <th>Cluster Labels</th>\n    </tr>\n  </thead>\n  <tbody>\n    <tr>\n      <th>12</th>\n      <td>Buckminster Fuller's Fly's Eye Dome</td>\n      <td>Museum</td>\n      <td>36.383526</td>\n      <td>-94.203559</td>\n      <td>0</td>\n    </tr>\n    <tr>\n      <th>18</th>\n      <td>The Land of Happy Monkeys</td>\n      <td>Zoo</td>\n      <td>36.362743</td>\n      <td>-94.181044</td>\n      <td>0</td>\n    </tr>\n    <tr>\n      <th>77</th>\n      <td>The Church of Jesus Christ of Latter-day Saints</td>\n      <td>Church</td>\n      <td>36.358282</td>\n      <td>-94.142592</td>\n      <td>1</td>\n    </tr>\n    <tr>\n      <th>86</th>\n      <td>Park Street Baptist Church</td>\n      <td>Church</td>\n      <td>36.384324</td>\n      <td>-94.208324</td>\n      <td>0</td>\n    </tr>\n    <tr>\n      <th>15</th>\n      <td>Daisy Airgun Museum</td>\n      <td>Museum</td>\n      <td>36.355182</td>\n      <td>-94.119768</td>\n      <td>1</td>\n    </tr>\n    <tr>\n      <th>41</th>\n      <td>Foerster Park</td>\n      <td>Park</td>\n      <td>36.342422</td>\n      <td>-94.120547</td>\n      <td>1</td>\n    </tr>\n    <tr>\n      <th>103</th>\n      <td>S.O.D POD</td>\n      <td>Shrine</td>\n      <td>36.360391</td>\n      <td>-94.182654</td>\n      <td>0</td>\n    </tr>\n    <tr>\n      <th>27</th>\n      <td>Crystal Bridges Trail</td>\n      <td>Trail</td>\n      <td>36.378921</td>\n      <td>-94.205425</td>\n      <td>0</td>\n    </tr>\n    <tr>\n      <th>71</th>\n      <td>First United Methodist Church Bentonville</td>\n      <td>Church</td>\n      <td>36.372896</td>\n      <td>-94.210764</td>\n      <td>0</td>\n    </tr>\n    <tr>\n      <th>89</th>\n      <td>oakley chapel</td>\n      <td>Church</td>\n      <td>36.333685</td>\n      <td>-94.174427</td>\n      <td>1</td>\n    </tr>\n    <tr>\n      <th>104</th>\n      <td>Church</td>\n      <td>Church</td>\n      <td>36.341495</td>\n      <td>-94.144027</td>\n      <td>1</td>\n    </tr>\n    <tr>\n      <th>57</th>\n      <td>Bentonville Bike Trail</td>\n      <td>Park</td>\n      <td>36.446724</td>\n      <td>-94.247192</td>\n      <td>2</td>\n    </tr>\n  </tbody>\n</table>\n</div>", 
                        "text/plain": "                                                Name Category   Latitude  \\\n12               Buckminster Fuller's Fly's Eye Dome   Museum  36.383526   \n18                         The Land of Happy Monkeys      Zoo  36.362743   \n77   The Church of Jesus Christ of Latter-day Saints   Church  36.358282   \n86                        Park Street Baptist Church   Church  36.384324   \n15                               Daisy Airgun Museum   Museum  36.355182   \n41                                     Foerster Park     Park  36.342422   \n103                                        S.O.D POD   Shrine  36.360391   \n27                             Crystal Bridges Trail    Trail  36.378921   \n71         First United Methodist Church Bentonville   Church  36.372896   \n89                                     oakley chapel   Church  36.333685   \n104                                           Church   Church  36.341495   \n57                            Bentonville Bike Trail     Park  36.446724   \n\n     Longtitude  Cluster Labels  \n12   -94.203559               0  \n18   -94.181044               0  \n77   -94.142592               1  \n86   -94.208324               0  \n15   -94.119768               1  \n41   -94.120547               1  \n103  -94.182654               0  \n27   -94.205425               0  \n71   -94.210764               0  \n89   -94.174427               1  \n104  -94.144027               1  \n57   -94.247192               2  "
                    }, 
                    "output_type": "execute_result"
                }
            ], 
            "source": "# set number of clusters\nkclusters = vdays\n\n# run k-means clustering\nkmeans = KMeans(init = \"k-means++\", n_clusters=kclusters, n_init = 12).fit(clustering_venues)\n\n\n# check cluster labels generated for each row in the dataframe\nkmeans.labels_\n\nvenues_grouped = top_travel_venues.loc[:,['Name', 'Category', 'Latitude','Longtitude']]\n\n# add clustering labels\nvenues_grouped['Cluster Labels'] = kmeans.labels_\nvenues_grouped"
        }, 
        {
            "source": "## Results\n\n### Step 13: Display the list of venues (for each day for 3 days)", 
            "cell_type": "markdown", 
            "metadata": {}
        }, 
        {
            "source": "#### Day 1", 
            "cell_type": "markdown", 
            "metadata": {}
        }, 
        {
            "execution_count": 335, 
            "cell_type": "code", 
            "metadata": {}, 
            "outputs": [
                {
                    "execution_count": 335, 
                    "metadata": {}, 
                    "data": {
                        "text/html": "<div>\n<style scoped>\n    .dataframe tbody tr th:only-of-type {\n        vertical-align: middle;\n    }\n\n    .dataframe tbody tr th {\n        vertical-align: top;\n    }\n\n    .dataframe thead th {\n        text-align: right;\n    }\n</style>\n<table border=\"1\" class=\"dataframe\">\n  <thead>\n    <tr style=\"text-align: right;\">\n      <th></th>\n      <th>Name</th>\n      <th>Category</th>\n    </tr>\n  </thead>\n  <tbody>\n    <tr>\n      <th>12</th>\n      <td>Buckminster Fuller's Fly's Eye Dome</td>\n      <td>Museum</td>\n    </tr>\n    <tr>\n      <th>18</th>\n      <td>The Land of Happy Monkeys</td>\n      <td>Zoo</td>\n    </tr>\n    <tr>\n      <th>86</th>\n      <td>Park Street Baptist Church</td>\n      <td>Church</td>\n    </tr>\n    <tr>\n      <th>103</th>\n      <td>S.O.D POD</td>\n      <td>Shrine</td>\n    </tr>\n    <tr>\n      <th>27</th>\n      <td>Crystal Bridges Trail</td>\n      <td>Trail</td>\n    </tr>\n    <tr>\n      <th>71</th>\n      <td>First United Methodist Church Bentonville</td>\n      <td>Church</td>\n    </tr>\n  </tbody>\n</table>\n</div>", 
                        "text/plain": "                                          Name Category\n12         Buckminster Fuller's Fly's Eye Dome   Museum\n18                   The Land of Happy Monkeys      Zoo\n86                  Park Street Baptist Church   Church\n103                                  S.O.D POD   Shrine\n27                       Crystal Bridges Trail    Trail\n71   First United Methodist Church Bentonville   Church"
                    }, 
                    "output_type": "execute_result"
                }
            ], 
            "source": "venues_grouped.loc[venues_grouped['Cluster Labels'] == 0, ['Name', 'Category']]"
        }, 
        {
            "source": "#### Day 2", 
            "cell_type": "markdown", 
            "metadata": {}
        }, 
        {
            "execution_count": 336, 
            "cell_type": "code", 
            "metadata": {}, 
            "outputs": [
                {
                    "execution_count": 336, 
                    "metadata": {}, 
                    "data": {
                        "text/html": "<div>\n<style scoped>\n    .dataframe tbody tr th:only-of-type {\n        vertical-align: middle;\n    }\n\n    .dataframe tbody tr th {\n        vertical-align: top;\n    }\n\n    .dataframe thead th {\n        text-align: right;\n    }\n</style>\n<table border=\"1\" class=\"dataframe\">\n  <thead>\n    <tr style=\"text-align: right;\">\n      <th></th>\n      <th>Name</th>\n      <th>Category</th>\n    </tr>\n  </thead>\n  <tbody>\n    <tr>\n      <th>77</th>\n      <td>The Church of Jesus Christ of Latter-day Saints</td>\n      <td>Church</td>\n    </tr>\n    <tr>\n      <th>15</th>\n      <td>Daisy Airgun Museum</td>\n      <td>Museum</td>\n    </tr>\n    <tr>\n      <th>41</th>\n      <td>Foerster Park</td>\n      <td>Park</td>\n    </tr>\n    <tr>\n      <th>89</th>\n      <td>oakley chapel</td>\n      <td>Church</td>\n    </tr>\n    <tr>\n      <th>104</th>\n      <td>Church</td>\n      <td>Church</td>\n    </tr>\n  </tbody>\n</table>\n</div>", 
                        "text/plain": "                                                Name Category\n77   The Church of Jesus Christ of Latter-day Saints   Church\n15                               Daisy Airgun Museum   Museum\n41                                     Foerster Park     Park\n89                                     oakley chapel   Church\n104                                           Church   Church"
                    }, 
                    "output_type": "execute_result"
                }
            ], 
            "source": "venues_grouped.loc[venues_grouped['Cluster Labels'] == 1, ['Name', 'Category']]"
        }, 
        {
            "source": "#### Day 3", 
            "cell_type": "markdown", 
            "metadata": {}
        }, 
        {
            "execution_count": 337, 
            "cell_type": "code", 
            "metadata": {}, 
            "outputs": [
                {
                    "execution_count": 337, 
                    "metadata": {}, 
                    "data": {
                        "text/html": "<div>\n<style scoped>\n    .dataframe tbody tr th:only-of-type {\n        vertical-align: middle;\n    }\n\n    .dataframe tbody tr th {\n        vertical-align: top;\n    }\n\n    .dataframe thead th {\n        text-align: right;\n    }\n</style>\n<table border=\"1\" class=\"dataframe\">\n  <thead>\n    <tr style=\"text-align: right;\">\n      <th></th>\n      <th>Name</th>\n      <th>Category</th>\n    </tr>\n  </thead>\n  <tbody>\n    <tr>\n      <th>57</th>\n      <td>Bentonville Bike Trail</td>\n      <td>Park</td>\n    </tr>\n  </tbody>\n</table>\n</div>", 
                        "text/plain": "                      Name Category\n57  Bentonville Bike Trail     Park"
                    }, 
                    "output_type": "execute_result"
                }
            ], 
            "source": "venues_grouped.loc[venues_grouped['Cluster Labels'] == 2, ['Name', 'Category']]"
        }, 
        {
            "source": "### Step 14: Use Folium to visualize the travel venues on the City map.\u00b6 \n\n#### (Day 1 in Red , Day 2 in Purple, and Day 3 in Green)\u00b6 ", 
            "cell_type": "markdown", 
            "metadata": {}
        }, 
        {
            "execution_count": 338, 
            "cell_type": "code", 
            "metadata": {}, 
            "outputs": [
                {
                    "execution_count": 338, 
                    "metadata": {}, 
                    "data": {
                        "text/html": "<div style=\"width:100%;\"><div style=\"position:relative;width:100%;height:0;padding-bottom:60%;\"><iframe src=\"data:text/html;charset=utf-8;base64,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\" style=\"position:absolute;width:100%;height:100%;left:0;top:0;border:none !important;\" allowfullscreen webkitallowfullscreen mozallowfullscreen></iframe></div></div>", 
                        "text/plain": "<folium.folium.Map at 0x7f9493566438>"
                    }, 
                    "output_type": "execute_result"
                }
            ], 
            "source": "# create map\nmap_clusters = folium.Map(location=[lat, lng], zoom_start=11)\n\n# set color scheme for the clusters\nx = np.arange(kclusters)\nys = [i+x+(i*x)**2 for i in range(kclusters)]\ncolors_array = cm.rainbow(np.linspace(0, 1, len(ys)))\nrainbow = [colors.rgb2hex(i) for i in colors_array]\n\n# add markers to the map\nmarkers_colors = []\nfor lat, lon, poi, cluster in zip(venues_grouped['Latitude'], venues_grouped['Longtitude'], venues_grouped['Name'], venues_grouped['Cluster Labels']):\n    label = folium.Popup(str(poi) + ' Cluster ' + str(cluster), parse_html=True)\n    folium.CircleMarker(\n        [lat, lon],\n        radius=5,\n        popup=label,\n        color=rainbow[cluster-1],\n        fill=True,\n        fill_color=rainbow[cluster-1],\n        fill_opacity=0.7).add_to(map_clusters)\n       \nmap_clusters"
        }, 
        {
            "source": "## DISCUSSION\n\nThe number of places to be covered on any day can be longer than the number we would like to visit because only latitude and longitude were used in the K-Means algorithm to do the clustering.  \n\nFuture imporvements could add options such as hours to visit at a venue, number of hours users spend on average at each venue,  etc, then the algorithm could do further spilts on this list.", 
            "cell_type": "markdown", 
            "metadata": {}
        }, 
        {
            "source": "## CONCLUSION\n\nWhen someone is planning a trip to an unknown city, the planning becomes difficult due to the lack of knowledge about the city.  This tool can help.  The tool uses preference of venue categories, number of days stay, ratings of venues, and venue likes.  This helps the traveler by making it easy for the user to make a schedule without going to multiple web pages.\n", 
            "cell_type": "markdown", 
            "metadata": {}
        }, 
        {
            "execution_count": null, 
            "cell_type": "code", 
            "metadata": {}, 
            "outputs": [], 
            "source": ""
        }
    ], 
    "metadata": {
        "kernelspec": {
            "display_name": "Python 3.5", 
            "name": "python3", 
            "language": "python"
        }, 
        "language_info": {
            "mimetype": "text/x-python", 
            "nbconvert_exporter": "python", 
            "version": "3.5.5", 
            "name": "python", 
            "file_extension": ".py", 
            "pygments_lexer": "ipython3", 
            "codemirror_mode": {
                "version": 3, 
                "name": "ipython"
            }
        }
    }, 
    "nbformat": 4
}